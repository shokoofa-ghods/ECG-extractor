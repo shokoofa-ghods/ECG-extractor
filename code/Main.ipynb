{
 "cells": [
  {
   "cell_type": "code",
   "execution_count": null,
   "metadata": {},
   "outputs": [],
   "source": [
    "import glob \n",
    "import os\n",
    "import numpy as np\n",
    "import matplotlib.pyplot as plt\n",
    "import pydicom\n",
    "import cv2\n",
    "from scipy.signal import find_peaks\n",
    "import plotly.graph_objects as go\n",
    "import plotly.express as px"
   ]
  },
  {
   "cell_type": "code",
   "execution_count": null,
   "metadata": {},
   "outputs": [],
   "source": [
    "def plotly_visualization(x, y, title=''):\n",
    "    fig = go.Figure()\n",
    "    fig.add_trace(go.Scatter(y=y, mode='lines', name='ECG'))\n",
    "    fig.add_trace(go.Scatter(x=x, y=y[x], mode='markers', marker=dict(symbol='x', size=8, color='red'), name='R-peaks'))\n",
    "\n",
    "    fig_width = 800 \n",
    "    fig_height = 400  \n",
    "    fig.update_layout(\n",
    "        title=title,\n",
    "        yaxis= dict(autorange='reversed'),\n",
    "        width=fig_width,\n",
    "        height=fig_height\n",
    "    )\n",
    "\n",
    "    fig.show()"
   ]
  },
  {
   "cell_type": "code",
   "execution_count": null,
   "metadata": {},
   "outputs": [],
   "source": [
    "def img_visualization(image, title='', color=''):\n",
    "    if color=='gray':\n",
    "        fig = px.imshow(image, color_continuous_scale='gray')\n",
    "    else:\n",
    "        fig = px.imshow(image)\n",
    "    fig.update_layout(\n",
    "        title=title,\n",
    "        width=800,\n",
    "        height=200,\n",
    "        coloraxis_showscale=False\n",
    "    )\n",
    "    fig.show()"
   ]
  },
  {
   "cell_type": "markdown",
   "metadata": {},
   "source": [
    "#### Checking for the color space (if YCbCr then color mapping is required)"
   ]
  },
  {
   "cell_type": "code",
   "execution_count": null,
   "metadata": {},
   "outputs": [],
   "source": [
    "def find_color_space(dcm):\n",
    "    # Find through meta data\n",
    "    transfer_syntax_uid = dcm.file_meta.TransferSyntaxUID\n",
    "    if transfer_syntax_uid == ('1.2.840.10008.1.2.4.50' or '1.2.840.10008.1.2.4.51' or '1.2.840.10008.1.2.4.57' or '1.2.840.10008.1.2.4.70'):\n",
    "        # print('YCbCr')\n",
    "        return 'YCbCr'\n",
    "    else:\n",
    "        # print('RGB')\n",
    "        return 'RGB'"
   ]
  },
  {
   "cell_type": "markdown",
   "metadata": {},
   "source": [
    "##### Detecting R-peaks and returning their spatial information "
   ]
  },
  {
   "cell_type": "code",
   "execution_count": null,
   "metadata": {},
   "outputs": [],
   "source": [
    "def detect_peaks(y_coordinates):\n",
    "    # Detect R-peaks\n",
    "\n",
    "    peaks = list()\n",
    "    # last_non_none = next((item for item in reversed(y_coordinates) if item is not None), None)\n",
    "    y_coordinates_non_none = y_coordinates[y_coordinates != None] \n",
    "    # as its a negative number I want to keep the actual low so the negative threshold will be high\n",
    "    threshold_value =  -int((y_coordinates_non_none.max() + y_coordinates_non_none.min())/2)\n",
    "    # assigning a high value that doesn't affect peaks as find_peaks() input shouldn't have none vals\n",
    "    y_coordinates[y_coordinates == None] = 1000\n",
    "\n",
    "    #indicating fare x distance between each R peak based on the range of x\n",
    "    xrange_ECG = np.where(y_coordinates!=1000)[0]\n",
    "    x_distance = int((xrange_ECG[-1] - xrange_ECG[0])/4)\n",
    "    \n",
    "    x_peaks, _ = find_peaks(-y_coordinates, distance=x_distance)\n",
    "    # threshold to filter out peaks below a certain amplitude\n",
    "    x_peaks = [x for x in x_peaks if -y_coordinates[x] > threshold_value]\n",
    "\n",
    "    y_coordinates[y_coordinates == 1000] = None\n",
    "\n",
    "    plotly_visualization(x_peaks, y_coordinates, \"ECG with Detected R-peaks\")\n",
    "\n",
    "    for x_peak in x_peaks:\n",
    "        peaks.append((x_peak, y_coordinates[x_peak]))\n",
    "\n",
    "    return peaks"
   ]
  },
  {
   "cell_type": "markdown",
   "metadata": {},
   "source": [
    "##### Converting to 1D vector"
   ]
  },
  {
   "cell_type": "code",
   "execution_count": null,
   "metadata": {},
   "outputs": [],
   "source": [
    "def vector1D(image2D):\n",
    " \n",
    "    # For each column in the image, find the y-coordinate of the curve\n",
    "    y_coordinates = list()\n",
    "    for x in range(image2D.shape[1]):\n",
    "        column = image2D[:, x]\n",
    "        indices = np.where(column > 0)\n",
    "        if indices[0].size > 0:\n",
    "            y_coordinate = int(np.min(indices))  # Max of the non-background pixels positions in the column\n",
    "            y_coordinates.append(y_coordinate)\n",
    "        else:\n",
    "            y_coordinates.append(None)\n",
    "\n",
    "    y_coordinates = np.array(y_coordinates)\n",
    "\n",
    "    return y_coordinates\n"
   ]
  },
  {
   "cell_type": "code",
   "execution_count": null,
   "metadata": {},
   "outputs": [],
   "source": [
    "def green_line_extractor(image, color_map):\n",
    "   \n",
    "   # if color_map == 'YCbCr':\n",
    "   image = cv2.cvtColor(image, cv2.COLOR_YCrCb2RGB)\n",
    "\n",
    "    # converting to hsv\n",
    "   hsv_image = cv2.cvtColor(image, cv2.COLOR_RGB2HSV)\n",
    "\n",
    "   # Define the range for the green color\n",
    "   lower_green = np.array([40, 40, 40])\n",
    "   upper_green = np.array([80, 255, 255])\n",
    "\n",
    "   # Create a mask for the green color\n",
    "   mask = cv2.inRange(hsv_image, lower_green, upper_green)\n",
    "\n",
    "   # Set non-green pixels to 0 and green pixels to a specific value\n",
    "   # filtered_image = cv2.bitwise_and(image, image, mask=mask)\n",
    "\n",
    "   return mask\n"
   ]
  },
  {
   "cell_type": "code",
   "execution_count": null,
   "metadata": {},
   "outputs": [],
   "source": [
    "def extraction(image, color_map):\n",
    "\n",
    "    mask = green_line_extractor(image, color_map)\n",
    "    img_visualization(mask, \"Exteracted ECG line from image\", 'gray')\n",
    "    # cv2.imwrite(f'{name}.jpg', filtered_image)\n",
    "    vector = vector1D(mask)\n",
    "    coordinates = detect_peaks(vector)\n",
    "\n",
    "    return coordinates \n"
   ]
  },
  {
   "cell_type": "markdown",
   "metadata": {},
   "source": [
    "##### Extracting ECG for each cardiac slice"
   ]
  },
  {
   "cell_type": "code",
   "execution_count": null,
   "metadata": {},
   "outputs": [],
   "source": [
    "def cycle_indentifier(image, coordinates, color_map):\n",
    "    \n",
    "    indices = list()\n",
    "    next_temporal = 0\n",
    "\n",
    "    for num, coordinate in enumerate(coordinates):\n",
    "        x_axis = coordinate[0]\n",
    "        expected_h = coordinate[1]\n",
    "\n",
    "        heights = list()\n",
    "        for x in range (next_temporal, image.shape[0]):\n",
    "            test = image[x, :, :, :]\n",
    "            signal = green_line_extractor(test, color_map)\n",
    "            for i in range(signal.shape[0]):\n",
    "                if (signal[i,x_axis]) > 0:\n",
    "                    heights.append(i)\n",
    "\n",
    "            if (heights):\n",
    "                if (expected_h == int(np.array(heights).min())) or (expected_h in heights):\n",
    "                    print(f'{num+1} cycle is completed at time index {x}')\n",
    "                    next_temporal = x\n",
    "                    indices.append(x)\n",
    "                    break\n",
    "\n",
    "    return indices\n",
    "                "
   ]
  },
  {
   "cell_type": "code",
   "execution_count": null,
   "metadata": {},
   "outputs": [],
   "source": [
    "images = list()\n",
    "paths = glob.glob(os.path.join('d:/University/1-Calgary/experiments/1 - reading images/images/', '*' ))\n",
    "dcms = [pydicom.dcmread(path) for path in paths]\n",
    "for dcm in dcms:\n",
    "    img = dcm.pixel_array\n",
    "    if len(img.shape)<4:\n",
    "        continue\n",
    "    offset = int(8/9*img.shape[1])\n",
    "    images.append(img[:,offset:,:,:])"
   ]
  },
  {
   "cell_type": "code",
   "execution_count": null,
   "metadata": {},
   "outputs": [],
   "source": [
    "for i, (image,dcm) in enumerate(zip(images[:55], dcms[:55])):\n",
    "    temporal_indecies = list()\n",
    "    color_map = find_color_space(dcm)\n",
    "\n",
    "    print(i+1)\n",
    "    img_visualization(image[-1,:,:,:])\n",
    "    # pass the 3D image\n",
    "    coordinates  = extraction(image[-1,:,:,:].squeeze(), color_map)\n",
    "    print(coordinates)\n",
    "    \n",
    "    \n",
    "    temporal_indecies.append(cycle_indentifier(image, coordinates, color_map))\n",
    "\n",
    "    print('\\n')\n",
    "    for temporal_index in temporal_indecies[0]:\n",
    "        img_visualization(image[temporal_index,:,:,:])\n",
    "\n",
    "    print('---------------------------------------------------------------')\n",
    " "
   ]
  },
  {
   "cell_type": "code",
   "execution_count": null,
   "metadata": {},
   "outputs": [],
   "source": []
  }
 ],
 "metadata": {
  "kernelspec": {
   "display_name": "Python 3",
   "language": "python",
   "name": "python3"
  },
  "language_info": {
   "codemirror_mode": {
    "name": "ipython",
    "version": 3
   },
   "file_extension": ".py",
   "mimetype": "text/x-python",
   "name": "python",
   "nbconvert_exporter": "python",
   "pygments_lexer": "ipython3",
   "version": "3.10.4"
  },
  "orig_nbformat": 4
 },
 "nbformat": 4,
 "nbformat_minor": 2
}
